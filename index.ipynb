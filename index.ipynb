{
 "cells": [
  {
   "cell_type": "markdown",
   "id": "50b0627d",
   "metadata": {},
   "source": [
    "# **Apple-Twitter-Sentiment-Analysis**"
   ]
  },
  {
   "cell_type": "markdown",
   "id": "ec69eaae",
   "metadata": {},
   "source": []
  }
 ],
 "metadata": {
  "kernelspec": {
   "display_name": "Python (learn-env)",
   "language": "python",
   "name": "learn-env"
  },
  "language_info": {
   "name": "python",
   "version": "3.11.7"
  }
 },
 "nbformat": 4,
 "nbformat_minor": 5
}
