{
 "cells": [
  {
   "cell_type": "markdown",
   "id": "50b0627d",
   "metadata": {},
   "source": [
    "# **Apple-Twitter-Sentiment-Analysis**"
   ]
  },
  {
   "cell_type": "markdown",
   "id": "a005296a",
   "metadata": {},
   "source": [
    "##  Project Introduction: Apple Twitter Sentiment Analysis\n",
    "\n",
    "This project aims to classify sentiments in tweets mentioning **Apple Inc.** into three categories: **positive**, **neutral**, or **negative**. Sentiment analysis is a key application of natural language processing (NLP) that helps organizations understand public opinion at scale.\n",
    "\n",
    "We use a labeled dataset of tweets annotated with sentiment categories and confidence scores. By building a machine learning model to classify these tweets automatically, we aim to enable scalable monitoring of public sentiment related to Apple’s brand and products.\n",
    "\n",
    "This project follows the **CRISP-DM (Cross-Industry Standard Process for Data Mining)** methodology, which provides a structured and iterative framework for carrying out data science projects effectively.\n",
    "\n",
    "---\n",
    "\n",
    "##  Business Understanding\n",
    "\n",
    "Understanding customer and public sentiment is crucial for brand management, competitive analysis, and decision-making. In this case, we are interested in automating the detection of sentiment in social media posts about **Apple Inc.**.\n",
    "\n",
    "Manually labeling tweets is both time-consuming and prone to inconsistency. Automating this process allows:\n",
    "- **Real-time insights** into how people perceive Apple products, services, and announcements.\n",
    "- **Trend monitoring** around events such as product launches or controversies.\n",
    "- **Actionable intelligence** for marketing, public relations, and strategic planning.\n",
    "\n",
    "###  Objective\n",
    "\n",
    "The main objectives of this project are:\n",
    "\n",
    "- To preprocess the tweet data using **Natural Language Processing (NLP)** techniques.\n",
    "- To perform **Exploratory Data Analysis (EDA)** on the text to understand word patterns, frequency, and sentiment distribution.\n",
    "- To build a **machine learning classifier** that accurately predicts the sentiment of tweets.\n",
    "- To evaluate the performance of different classifiers using appropriate **classification metrics** such as accuracy, precision, recall, and F1-score.\n",
    "\n",
    "\n",
    "This system could later be extended for real-time social media tracking or integrated into customer feedback pipelines.\n",
    "\n",
    "---\n",
    "\n",
    "## Data Understanding\n",
    "\n",
    "The dataset used in this project is the **Apple Twitter Sentiment DFE** dataset from data world. It contains tweets labeled with sentiment classes and additional metadata. Here's a high-level overview of the dataset:\n",
    "\n",
    "###  Key Columns:\n",
    "- `text`: The tweet content (our main feature for analysis).\n",
    "- `sentiment`: The sentiment label assigned to each tweet (our target variable).\n",
    "- `sentiment:confidence`: A score indicating how confident the annotator or system was in the assigned label.\n",
    "\n",
    "###  Observations from Initial Exploration:\n",
    "- The dataset contains **3886 rows** and several metadata columns (e.g., unit ID, query, annotation state) which are not relevant for sentiment modeling and will be dropped during preprocessing.\n",
    "- The `sentiment` column contains some **non-numeric and noisy values** (e.g., `not_relevant`, or merged label codes like `3\\n1`) that must be cleaned or filtered out.\n",
    "- The `text` column contains **raw social media content**, including mentions, hashtags, links, and special characters that will need to be cleaned for modeling.\n",
    "- The `sentiment:confidence` column varies in range and may be used to **filter out low-confidence annotations** to improve model quality.\n",
    "\n",
    "This understanding will guide our **data cleaning and feature engineering** efforts in the next stages of the project.\n",
    "\n"
   ]
  },
  {
   "cell_type": "code",
   "execution_count": 1,
   "id": "6eb48f9f",
   "metadata": {},
   "outputs": [
    {
     "name": "stderr",
     "output_type": "stream",
     "text": [
      "[nltk_data] Downloading package punkt_tab to\n",
      "[nltk_data]     C:\\Users\\HomePC\\AppData\\Roaming\\nltk_data...\n",
      "[nltk_data]   Package punkt_tab is already up-to-date!\n",
      "[nltk_data] Downloading package wordnet to\n",
      "[nltk_data]     C:\\Users\\HomePC\\AppData\\Roaming\\nltk_data...\n",
      "[nltk_data]   Package wordnet is already up-to-date!\n"
     ]
    }
   ],
   "source": [
    "# importing necessary libraries\n",
    "import pandas as pd\n",
    "import numpy as np\n",
    "import matplotlib.pyplot as plt\n",
    "%matplotlib inline\n",
    "import seaborn as sns\n",
    "import re\n",
    "import nltk\n",
    "from sklearn.feature_extraction.text import TfidfVectorizer\n",
    "nltk.download(\"punkt_tab\")\n",
    "nltk.download(\"wordnet\")\n",
    "from sklearn.model_selection import train_test_split,GridSearchCV,cross_val_score\n",
    "from sklearn.metrics import classification_report,roc_auc_score,confusion_matrix\n",
    "from sklearn.linear_model import LogisticRegression\n",
    "from sklearn.tree import DecisionTreeClassifier\n",
    "from sklearn.ensemble import RandomForestClassifier\n",
    "from xgboost import XGBClassifier\n",
    "from sklearn.pipeline import Pipeline\n",
    "import warnings\n",
    "warnings.filterwarnings(\"ignore\")\n"
   ]
  },
  {
   "cell_type": "code",
   "execution_count": 2,
   "id": "8dbb8c69",
   "metadata": {},
   "outputs": [
    {
     "data": {
      "application/vnd.microsoft.datawrangler.viewer.v0+json": {
       "columns": [
        {
         "name": "index",
         "rawType": "int64",
         "type": "integer"
        },
        {
         "name": "_unit_id",
         "rawType": "int64",
         "type": "integer"
        },
        {
         "name": "_golden",
         "rawType": "bool",
         "type": "boolean"
        },
        {
         "name": "_unit_state",
         "rawType": "object",
         "type": "string"
        },
        {
         "name": "_trusted_judgments",
         "rawType": "int64",
         "type": "integer"
        },
        {
         "name": "_last_judgment_at",
         "rawType": "object",
         "type": "unknown"
        },
        {
         "name": "sentiment",
         "rawType": "object",
         "type": "string"
        },
        {
         "name": "sentiment:confidence",
         "rawType": "float64",
         "type": "float"
        },
        {
         "name": "date",
         "rawType": "object",
         "type": "string"
        },
        {
         "name": "id",
         "rawType": "float64",
         "type": "float"
        },
        {
         "name": "query",
         "rawType": "object",
         "type": "string"
        },
        {
         "name": "sentiment_gold",
         "rawType": "object",
         "type": "unknown"
        },
        {
         "name": "text",
         "rawType": "object",
         "type": "string"
        }
       ],
       "ref": "edf6a1c3-0046-4843-b9c8-cdaf0c5f5a70",
       "rows": [
        [
         "0",
         "623495513",
         "True",
         "golden",
         "10",
         null,
         "3",
         "0.6264",
         "Mon Dec 01 19:30:03 +0000 2014",
         "5.4e+17",
         "#AAPL OR @Apple",
         "3\nnot_relevant",
         "#AAPL:The 10 best Steve Jobs emails ever...http://t.co/82G1kL94tx"
        ],
        [
         "1",
         "623495514",
         "True",
         "golden",
         "12",
         null,
         "3",
         "0.8129",
         "Mon Dec 01 19:43:51 +0000 2014",
         "5.4e+17",
         "#AAPL OR @Apple",
         "3\n1",
         "RT @JPDesloges: Why AAPL Stock Had a Mini-Flash Crash Today $AAPL #aapl\nhttp://t.co/hGFcjYa0E9"
        ],
        [
         "2",
         "623495515",
         "True",
         "golden",
         "10",
         null,
         "3",
         "1.0",
         "Mon Dec 01 19:50:28 +0000 2014",
         "5.4e+17",
         "#AAPL OR @Apple",
         "3",
         "My cat only chews @apple cords. Such an #AppleSnob."
        ],
        [
         "3",
         "623495516",
         "True",
         "golden",
         "17",
         null,
         "3",
         "0.5848",
         "Mon Dec 01 20:26:34 +0000 2014",
         "5.4e+17",
         "#AAPL OR @Apple",
         "3\n1",
         "I agree with @jimcramer that the #IndividualInvestor should own not trade #Apple #AAPL, it's extended so today's pullback is good to see"
        ],
        [
         "4",
         "623495517",
         "False",
         "finalized",
         "3",
         "12/12/14 12:14",
         "3",
         "0.6474",
         "Mon Dec 01 20:29:33 +0000 2014",
         "5.4e+17",
         "#AAPL OR @Apple",
         null,
         "Nobody expects the Spanish Inquisition #AAPL"
        ]
       ],
       "shape": {
        "columns": 12,
        "rows": 5
       }
      },
      "text/html": [
       "<div>\n",
       "<style scoped>\n",
       "    .dataframe tbody tr th:only-of-type {\n",
       "        vertical-align: middle;\n",
       "    }\n",
       "\n",
       "    .dataframe tbody tr th {\n",
       "        vertical-align: top;\n",
       "    }\n",
       "\n",
       "    .dataframe thead th {\n",
       "        text-align: right;\n",
       "    }\n",
       "</style>\n",
       "<table border=\"1\" class=\"dataframe\">\n",
       "  <thead>\n",
       "    <tr style=\"text-align: right;\">\n",
       "      <th></th>\n",
       "      <th>_unit_id</th>\n",
       "      <th>_golden</th>\n",
       "      <th>_unit_state</th>\n",
       "      <th>_trusted_judgments</th>\n",
       "      <th>_last_judgment_at</th>\n",
       "      <th>sentiment</th>\n",
       "      <th>sentiment:confidence</th>\n",
       "      <th>date</th>\n",
       "      <th>id</th>\n",
       "      <th>query</th>\n",
       "      <th>sentiment_gold</th>\n",
       "      <th>text</th>\n",
       "    </tr>\n",
       "  </thead>\n",
       "  <tbody>\n",
       "    <tr>\n",
       "      <th>0</th>\n",
       "      <td>623495513</td>\n",
       "      <td>True</td>\n",
       "      <td>golden</td>\n",
       "      <td>10</td>\n",
       "      <td>NaN</td>\n",
       "      <td>3</td>\n",
       "      <td>0.6264</td>\n",
       "      <td>Mon Dec 01 19:30:03 +0000 2014</td>\n",
       "      <td>5.400000e+17</td>\n",
       "      <td>#AAPL OR @Apple</td>\n",
       "      <td>3\\nnot_relevant</td>\n",
       "      <td>#AAPL:The 10 best Steve Jobs emails ever...htt...</td>\n",
       "    </tr>\n",
       "    <tr>\n",
       "      <th>1</th>\n",
       "      <td>623495514</td>\n",
       "      <td>True</td>\n",
       "      <td>golden</td>\n",
       "      <td>12</td>\n",
       "      <td>NaN</td>\n",
       "      <td>3</td>\n",
       "      <td>0.8129</td>\n",
       "      <td>Mon Dec 01 19:43:51 +0000 2014</td>\n",
       "      <td>5.400000e+17</td>\n",
       "      <td>#AAPL OR @Apple</td>\n",
       "      <td>3\\n1</td>\n",
       "      <td>RT @JPDesloges: Why AAPL Stock Had a Mini-Flas...</td>\n",
       "    </tr>\n",
       "    <tr>\n",
       "      <th>2</th>\n",
       "      <td>623495515</td>\n",
       "      <td>True</td>\n",
       "      <td>golden</td>\n",
       "      <td>10</td>\n",
       "      <td>NaN</td>\n",
       "      <td>3</td>\n",
       "      <td>1.0000</td>\n",
       "      <td>Mon Dec 01 19:50:28 +0000 2014</td>\n",
       "      <td>5.400000e+17</td>\n",
       "      <td>#AAPL OR @Apple</td>\n",
       "      <td>3</td>\n",
       "      <td>My cat only chews @apple cords. Such an #Apple...</td>\n",
       "    </tr>\n",
       "    <tr>\n",
       "      <th>3</th>\n",
       "      <td>623495516</td>\n",
       "      <td>True</td>\n",
       "      <td>golden</td>\n",
       "      <td>17</td>\n",
       "      <td>NaN</td>\n",
       "      <td>3</td>\n",
       "      <td>0.5848</td>\n",
       "      <td>Mon Dec 01 20:26:34 +0000 2014</td>\n",
       "      <td>5.400000e+17</td>\n",
       "      <td>#AAPL OR @Apple</td>\n",
       "      <td>3\\n1</td>\n",
       "      <td>I agree with @jimcramer that the #IndividualIn...</td>\n",
       "    </tr>\n",
       "    <tr>\n",
       "      <th>4</th>\n",
       "      <td>623495517</td>\n",
       "      <td>False</td>\n",
       "      <td>finalized</td>\n",
       "      <td>3</td>\n",
       "      <td>12/12/14 12:14</td>\n",
       "      <td>3</td>\n",
       "      <td>0.6474</td>\n",
       "      <td>Mon Dec 01 20:29:33 +0000 2014</td>\n",
       "      <td>5.400000e+17</td>\n",
       "      <td>#AAPL OR @Apple</td>\n",
       "      <td>NaN</td>\n",
       "      <td>Nobody expects the Spanish Inquisition #AAPL</td>\n",
       "    </tr>\n",
       "  </tbody>\n",
       "</table>\n",
       "</div>"
      ],
      "text/plain": [
       "    _unit_id  _golden _unit_state  _trusted_judgments _last_judgment_at  \\\n",
       "0  623495513     True      golden                  10               NaN   \n",
       "1  623495514     True      golden                  12               NaN   \n",
       "2  623495515     True      golden                  10               NaN   \n",
       "3  623495516     True      golden                  17               NaN   \n",
       "4  623495517    False   finalized                   3    12/12/14 12:14   \n",
       "\n",
       "  sentiment  sentiment:confidence                            date  \\\n",
       "0         3                0.6264  Mon Dec 01 19:30:03 +0000 2014   \n",
       "1         3                0.8129  Mon Dec 01 19:43:51 +0000 2014   \n",
       "2         3                1.0000  Mon Dec 01 19:50:28 +0000 2014   \n",
       "3         3                0.5848  Mon Dec 01 20:26:34 +0000 2014   \n",
       "4         3                0.6474  Mon Dec 01 20:29:33 +0000 2014   \n",
       "\n",
       "             id            query   sentiment_gold  \\\n",
       "0  5.400000e+17  #AAPL OR @Apple  3\\nnot_relevant   \n",
       "1  5.400000e+17  #AAPL OR @Apple             3\\n1   \n",
       "2  5.400000e+17  #AAPL OR @Apple                3   \n",
       "3  5.400000e+17  #AAPL OR @Apple             3\\n1   \n",
       "4  5.400000e+17  #AAPL OR @Apple              NaN   \n",
       "\n",
       "                                                text  \n",
       "0  #AAPL:The 10 best Steve Jobs emails ever...htt...  \n",
       "1  RT @JPDesloges: Why AAPL Stock Had a Mini-Flas...  \n",
       "2  My cat only chews @apple cords. Such an #Apple...  \n",
       "3  I agree with @jimcramer that the #IndividualIn...  \n",
       "4       Nobody expects the Spanish Inquisition #AAPL  "
      ]
     },
     "execution_count": 2,
     "metadata": {},
     "output_type": "execute_result"
    }
   ],
   "source": [
    "# loading the dataset\n",
    "df=pd.read_csv(\"Apple-Twitter-Sentiment-DFE.csv\",encoding=\"ISO-8859-1\")\n",
    "df.head()"
   ]
  },
  {
   "cell_type": "markdown",
   "id": "cd3b831f",
   "metadata": {},
   "source": [
    "\n",
    "\n",
    "We load the Apple Twitter Sentiment dataset from a CSV file using `pandas.read_csv`. Since the file contains special characters, we specify the encoding as `ISO-8859-1`.\n",
    "\n",
    "The dataset contains various metadata columns related to tweet annotations as well as the actual tweet text and sentiment labels.\n"
   ]
  },
  {
   "cell_type": "code",
   "execution_count": 3,
   "id": "55b69299",
   "metadata": {},
   "outputs": [
    {
     "data": {
      "application/vnd.microsoft.datawrangler.viewer.v0+json": {
       "columns": [
        {
         "name": "index",
         "rawType": "int64",
         "type": "integer"
        },
        {
         "name": "sentiment",
         "rawType": "object",
         "type": "string"
        },
        {
         "name": "sentiment:confidence",
         "rawType": "float64",
         "type": "float"
        },
        {
         "name": "text",
         "rawType": "object",
         "type": "string"
        }
       ],
       "ref": "a54249d5-78cb-40d1-88c4-939bec37b1a2",
       "rows": [
        [
         "0",
         "3",
         "0.6264",
         "#AAPL:The 10 best Steve Jobs emails ever...http://t.co/82G1kL94tx"
        ],
        [
         "1",
         "3",
         "0.8129",
         "RT @JPDesloges: Why AAPL Stock Had a Mini-Flash Crash Today $AAPL #aapl\nhttp://t.co/hGFcjYa0E9"
        ],
        [
         "2",
         "3",
         "1.0",
         "My cat only chews @apple cords. Such an #AppleSnob."
        ],
        [
         "3",
         "3",
         "0.5848",
         "I agree with @jimcramer that the #IndividualInvestor should own not trade #Apple #AAPL, it's extended so today's pullback is good to see"
        ],
        [
         "4",
         "3",
         "0.6474",
         "Nobody expects the Spanish Inquisition #AAPL"
        ]
       ],
       "shape": {
        "columns": 3,
        "rows": 5
       }
      },
      "text/html": [
       "<div>\n",
       "<style scoped>\n",
       "    .dataframe tbody tr th:only-of-type {\n",
       "        vertical-align: middle;\n",
       "    }\n",
       "\n",
       "    .dataframe tbody tr th {\n",
       "        vertical-align: top;\n",
       "    }\n",
       "\n",
       "    .dataframe thead th {\n",
       "        text-align: right;\n",
       "    }\n",
       "</style>\n",
       "<table border=\"1\" class=\"dataframe\">\n",
       "  <thead>\n",
       "    <tr style=\"text-align: right;\">\n",
       "      <th></th>\n",
       "      <th>sentiment</th>\n",
       "      <th>sentiment:confidence</th>\n",
       "      <th>text</th>\n",
       "    </tr>\n",
       "  </thead>\n",
       "  <tbody>\n",
       "    <tr>\n",
       "      <th>0</th>\n",
       "      <td>3</td>\n",
       "      <td>0.6264</td>\n",
       "      <td>#AAPL:The 10 best Steve Jobs emails ever...htt...</td>\n",
       "    </tr>\n",
       "    <tr>\n",
       "      <th>1</th>\n",
       "      <td>3</td>\n",
       "      <td>0.8129</td>\n",
       "      <td>RT @JPDesloges: Why AAPL Stock Had a Mini-Flas...</td>\n",
       "    </tr>\n",
       "    <tr>\n",
       "      <th>2</th>\n",
       "      <td>3</td>\n",
       "      <td>1.0000</td>\n",
       "      <td>My cat only chews @apple cords. Such an #Apple...</td>\n",
       "    </tr>\n",
       "    <tr>\n",
       "      <th>3</th>\n",
       "      <td>3</td>\n",
       "      <td>0.5848</td>\n",
       "      <td>I agree with @jimcramer that the #IndividualIn...</td>\n",
       "    </tr>\n",
       "    <tr>\n",
       "      <th>4</th>\n",
       "      <td>3</td>\n",
       "      <td>0.6474</td>\n",
       "      <td>Nobody expects the Spanish Inquisition #AAPL</td>\n",
       "    </tr>\n",
       "  </tbody>\n",
       "</table>\n",
       "</div>"
      ],
      "text/plain": [
       "  sentiment  sentiment:confidence  \\\n",
       "0         3                0.6264   \n",
       "1         3                0.8129   \n",
       "2         3                1.0000   \n",
       "3         3                0.5848   \n",
       "4         3                0.6474   \n",
       "\n",
       "                                                text  \n",
       "0  #AAPL:The 10 best Steve Jobs emails ever...htt...  \n",
       "1  RT @JPDesloges: Why AAPL Stock Had a Mini-Flas...  \n",
       "2  My cat only chews @apple cords. Such an #Apple...  \n",
       "3  I agree with @jimcramer that the #IndividualIn...  \n",
       "4       Nobody expects the Spanish Inquisition #AAPL  "
      ]
     },
     "execution_count": 3,
     "metadata": {},
     "output_type": "execute_result"
    }
   ],
   "source": [
    "# extracting the relevant columns\n",
    "df_rel=df[[\"sentiment\",\"sentiment:confidence\",\"text\"]]\n",
    "df_rel.head()"
   ]
  },
  {
   "cell_type": "markdown",
   "id": "e178547b",
   "metadata": {},
   "source": [
    "From the loaded dataset, we extract only the columns that are directly relevant for sentiment analysis:\n",
    "\n",
    "- `sentiment`: the label or target variable\n",
    "- `sentiment:confidence`: confidence score of the assigned label\n",
    "- `text`: the actual tweet text we want to analyze\n",
    "\n",
    "This step simplifies our dataset to only what's necessary for modeling and text preprocessing.\n"
   ]
  },
  {
   "cell_type": "code",
   "execution_count": 4,
   "id": "1dd127f0",
   "metadata": {},
   "outputs": [],
   "source": [
    "# renaming the sentiment:confidence column\n",
    "df_rel=df_rel.rename(columns={\"sentiment:confidence\":\"sentiment confidence\"})"
   ]
  },
  {
   "cell_type": "markdown",
   "id": "dcd23ee9",
   "metadata": {},
   "source": [
    "\n",
    "Here, we rename the column `sentiment:confidence` to `sentiment confidence` for easier access and improved readability in our analysis and model-building code.\n"
   ]
  },
  {
   "cell_type": "code",
   "execution_count": 5,
   "id": "1d8436e3",
   "metadata": {},
   "outputs": [
    {
     "name": "stdout",
     "output_type": "stream",
     "text": [
      "<class 'pandas.core.frame.DataFrame'>\n",
      "RangeIndex: 3886 entries, 0 to 3885\n",
      "Data columns (total 3 columns):\n",
      " #   Column                Non-Null Count  Dtype  \n",
      "---  ------                --------------  -----  \n",
      " 0   sentiment             3886 non-null   object \n",
      " 1   sentiment confidence  3886 non-null   float64\n",
      " 2   text                  3886 non-null   object \n",
      "dtypes: float64(1), object(2)\n",
      "memory usage: 91.2+ KB\n"
     ]
    }
   ],
   "source": [
    "# summary of the dataset\n",
    "df_rel.info()"
   ]
  },
  {
   "cell_type": "markdown",
   "id": "66a0dbeb",
   "metadata": {},
   "source": [
    "\n",
    "In this step, we examine a concise summary of the dataset. It contains 3 columns and 3,886 entries. The `sentiment` and `sentiment confidence` columns are currently stored as object types, suggesting the need for further inspection and possible data type conversion before modeling.\n"
   ]
  },
  {
   "cell_type": "code",
   "execution_count": 6,
   "id": "3cd8526d",
   "metadata": {},
   "outputs": [
    {
     "name": "stdout",
     "output_type": "stream",
     "text": [
      "sentiment\n",
      "3               2162\n",
      "1               1219\n",
      "5                423\n",
      "not_relevant      82\n",
      "Name: count, dtype: int64\n",
      "sentiment confidence\n",
      "1.0000    1899\n",
      "0.6722      46\n",
      "0.6884      32\n",
      "0.6825      29\n",
      "0.6635      27\n",
      "          ... \n",
      "0.8578       1\n",
      "0.4882       1\n",
      "0.6490       1\n",
      "0.6686       1\n",
      "0.9230       1\n",
      "Name: count, Length: 654, dtype: int64\n"
     ]
    }
   ],
   "source": [
    "col_check=[\"sentiment\",\"sentiment confidence\"]\n",
    "for col in col_check:\n",
    "    print(df_rel[col].value_counts())"
   ]
  },
  {
   "cell_type": "markdown",
   "id": "baf1481d",
   "metadata": {},
   "source": [
    "We inspect the value counts of two key columns:\n",
    "- `sentiment`: to see how many tweets fall into each label category\n",
    "- `sentiment confidence`: to examine the spread of confidence scores assigned during annotation\n",
    "\n",
    "This step helps us identify possible anomalies like unexpected labels (e.g., `not_relevant`) and decide on thresholding for label quality based on confidence.\n"
   ]
  },
  {
   "cell_type": "code",
   "execution_count": 7,
   "id": "774c98df",
   "metadata": {},
   "outputs": [
    {
     "name": "stdout",
     "output_type": "stream",
     "text": [
      "<class 'pandas.core.frame.DataFrame'>\n",
      "RangeIndex: 3886 entries, 0 to 3885\n",
      "Data columns (total 3 columns):\n",
      " #   Column                Non-Null Count  Dtype  \n",
      "---  ------                --------------  -----  \n",
      " 0   sentiment             3804 non-null   float64\n",
      " 1   sentiment confidence  3886 non-null   float64\n",
      " 2   text                  3886 non-null   object \n",
      "dtypes: float64(2), object(1)\n",
      "memory usage: 91.2+ KB\n"
     ]
    }
   ],
   "source": [
    "# casting 'sentiment' and 'sentiment confidence' column values to integers\n",
    "df_rel[\"sentiment confidence\"] = pd.to_numeric(df_rel[\"sentiment confidence\"], errors='coerce')\n",
    "df_rel[\"sentiment\"] = pd.to_numeric(df_rel[\"sentiment\"], errors='coerce')\n",
    "df_rel.info()\n"
   ]
  },
  {
   "cell_type": "markdown",
   "id": "1a9c2f1d",
   "metadata": {},
   "source": [
    "\n",
    "\n",
    "This cell ensures that the `sentiment` and `sentiment confidence` columns are properly converted to numeric values using `pd.to_numeric`.\n",
    "\n",
    "We use `errors='coerce'` to handle invalid entries (e.g., text labels like `'not_relevant'`) by converting them to `NaN`.\n",
    "\n",
    "After conversion, we call `.info()` again to verify the changes and identify any new missing values introduced during the coercion.\n"
   ]
  },
  {
   "cell_type": "code",
   "execution_count": null,
   "id": "b2f57cd3",
   "metadata": {},
   "outputs": [],
   "source": [
    "# creating a function to clean the dataset\n",
    "def clean(df):\n",
    "    print(f\"null : {df.isna().sum()}\")\n",
    "    df=df.dropna()\n",
    "    print(f\"is duplicated : {df.duplicated().sum()}\")\n",
    "    df=df.drop_duplicates()\n",
    "    return df\n",
    "    "
   ]
  },
  {
   "cell_type": "markdown",
   "id": "2bf434a0",
   "metadata": {},
   "source": [
    "Here we define a reusable function called `clean(df)` to perform essential dataset cleaning:\n",
    "- Display the number of missing values (`NaN`)\n",
    "- Drop rows with missing values\n",
    "- Display the number of duplicate rows\n",
    "- Remove duplicate rows\n",
    "\n",
    "The cleaned DataFrame is returned for further use in model development.\n"
   ]
  },
  {
   "cell_type": "code",
   "execution_count": null,
   "id": "d489b1c8",
   "metadata": {},
   "outputs": [
    {
     "name": "stdout",
     "output_type": "stream",
     "text": [
      "null : sentiment               82\n",
      "sentiment confidence     0\n",
      "text                     0\n",
      "dtype: int64\n",
      "is duplicated : 382\n",
      "<class 'pandas.core.frame.DataFrame'>\n",
      "Index: 3422 entries, 0 to 3885\n",
      "Data columns (total 3 columns):\n",
      " #   Column                Non-Null Count  Dtype  \n",
      "---  ------                --------------  -----  \n",
      " 0   sentiment             3422 non-null   float64\n",
      " 1   sentiment confidence  3422 non-null   float64\n",
      " 2   text                  3422 non-null   object \n",
      "dtypes: float64(2), object(1)\n",
      "memory usage: 106.9+ KB\n"
     ]
    }
   ],
   "source": [
    "# utilizing the clean function\n",
    "df_clean=clean(df_rel)\n",
    "df_clean.info()"
   ]
  },
  {
   "cell_type": "code",
   "execution_count": null,
   "id": "e42e881b",
   "metadata": {},
   "outputs": [],
   "source": []
  }
 ],
 "metadata": {
  "kernelspec": {
   "display_name": "Python (learn-env)",
   "language": "python",
   "name": "learn-env"
  },
  "language_info": {
   "codemirror_mode": {
    "name": "ipython",
    "version": 3
   },
   "file_extension": ".py",
   "mimetype": "text/x-python",
   "name": "python",
   "nbconvert_exporter": "python",
   "pygments_lexer": "ipython3",
   "version": "3.11.7"
  }
 },
 "nbformat": 4,
 "nbformat_minor": 5
}
