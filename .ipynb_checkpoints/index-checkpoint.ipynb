{
 "cells": [
  {
   "cell_type": "markdown",
   "id": "4a6d1aa2",
   "metadata": {},
   "source": [
    "# **Apple-Twitter-Sentiment-Analysis**"
   ]
  },
  {
   "cell_type": "markdown",
   "id": "7ef1e40f",
   "metadata": {},
   "source": [
    "##  Project Introduction: Apple Twitter Sentiment Analysis\n",
    "\n",
    "This project aims to classify sentiments in tweets mentioning **Apple Inc.** into three categories: **positive**, **neutral**, or **negative**. Sentiment analysis is a key application of natural language processing (NLP) that helps organizations understand public opinion at scale.\n",
    "\n",
    "We use a labeled dataset of tweets annotated with sentiment categories and confidence scores. By building a machine learning model to classify these tweets automatically, we aim to enable scalable monitoring of public sentiment related to Apple’s brand and products.\n",
    "\n",
    "This project follows the **CRISP-DM (Cross-Industry Standard Process for Data Mining)** methodology, which provides a structured and iterative framework for carrying out data science projects effectively.\n",
    "\n",
    "---\n",
    "\n",
    "##  Business Understanding\n",
    "\n",
    "Understanding customer and public sentiment is crucial for brand management, competitive analysis, and decision-making. In this case, we are interested in automating the detection of sentiment in social media posts about **Apple Inc.**.\n",
    "\n",
    "Manually labeling tweets is both time-consuming and prone to inconsistency. Automating this process allows:\n",
    "- **Real-time insights** into how people perceive Apple products, services, and announcements.\n",
    "- **Trend monitoring** around events such as product launches or controversies.\n",
    "- **Actionable intelligence** for marketing, public relations, and strategic planning.\n",
    "\n",
    "###  Objective\n",
    "\n",
    "The main objectives of this project are:\n",
    "\n",
    "- To preprocess the tweet data using **Natural Language Processing (NLP)** techniques.\n",
    "- To perform **Exploratory Data Analysis (EDA)** on the text to understand word patterns, frequency, and sentiment distribution.\n",
    "- To build a **machine learning classifier** that accurately predicts the sentiment of tweets.\n",
    "- To evaluate the performance of different classifiers using appropriate **classification metrics** such as accuracy, precision, recall, and F1-score.\n",
    "\n",
    "\n",
    "This system could later be extended for real-time social media tracking or integrated into customer feedback pipelines.\n",
    "\n",
    "---\n",
    "\n",
    "## Data Understanding\n",
    "\n",
    "The dataset used in this project is the **Apple Twitter Sentiment DFE** dataset from data world. It contains tweets labeled with sentiment classes and additional metadata. Here's a high-level overview of the dataset:\n",
    "\n",
    "###  Key Columns:\n",
    "- `text`: The tweet content (our main feature for analysis).\n",
    "- `sentiment`: The sentiment label assigned to each tweet (our target variable).\n",
    "- `sentiment:confidence`: A score indicating how confident the annotator or system was in the assigned label.\n",
    "\n",
    "###  Observations from Initial Exploration:\n",
    "- The dataset contains **3886 rows** and several metadata columns (e.g., unit ID, query, annotation state) which are not relevant for sentiment modeling and will be dropped during preprocessing.\n",
    "- The `sentiment` column contains some **non-numeric and noisy values** (e.g., `not_relevant`, or merged label codes like `3\\n1`) that must be cleaned or filtered out.\n",
    "- The `text` column contains **raw social media content**, including mentions, hashtags, links, and special characters that will need to be cleaned for modeling.\n",
    "- The `sentiment:confidence` column varies in range and may be used to **filter out low-confidence annotations** to improve model quality.\n",
    "\n",
    "This understanding will guide our **data cleaning and feature engineering** efforts in the next stages of the project.\n",
    "\n"
   ]
  },
  {
   "cell_type": "code",
   "execution_count": 1,
   "id": "e82e802a",
   "metadata": {},
   "outputs": [
    {
     "name": "stderr",
     "output_type": "stream",
     "text": [
      "[nltk_data] Downloading package punkt_tab to C:\\Users\\USER\n",
      "[nltk_data]     PC\\AppData\\Roaming\\nltk_data...\n",
      "[nltk_data]   Package punkt_tab is already up-to-date!\n",
      "[nltk_data] Downloading package wordnet to C:\\Users\\USER\n",
      "[nltk_data]     PC\\AppData\\Roaming\\nltk_data...\n",
      "[nltk_data]   Package wordnet is already up-to-date!\n"
     ]
    }
   ],
   "source": [
    "# importing necessary libraries\n",
    "import pandas as pd\n",
    "import numpy as np\n",
    "import matplotlib.pyplot as plt\n",
    "%matplotlib inline\n",
    "import seaborn as sns\n",
    "import re\n",
    "import nltk\n",
    "from sklearn.feature_extraction.text import TfidfVectorizer\n",
    "nltk.download(\"punkt_tab\")\n",
    "nltk.download(\"wordnet\")\n",
    "from sklearn.model_selection import train_test_split,GridSearchCV,cross_val_score\n",
    "from sklearn.metrics import classification_report,roc_auc_score,confusion_matrix\n",
    "from sklearn.linear_model import LogisticRegression\n",
    "from sklearn.tree import DecisionTreeClassifier\n",
    "from sklearn.ensemble import RandomForestClassifier\n",
    "from xgboost import XGBClassifier\n",
    "from sklearn.pipeline import Pipeline\n",
    "import warnings\n",
    "warnings.filterwarnings(\"ignore\")\n"
   ]
  },
  {
   "cell_type": "code",
   "execution_count": 2,
   "id": "fd3a8dbd",
   "metadata": {},
   "outputs": [
    {
     "data": {
      "text/html": [
       "<div>\n",
       "<style scoped>\n",
       "    .dataframe tbody tr th:only-of-type {\n",
       "        vertical-align: middle;\n",
       "    }\n",
       "\n",
       "    .dataframe tbody tr th {\n",
       "        vertical-align: top;\n",
       "    }\n",
       "\n",
       "    .dataframe thead th {\n",
       "        text-align: right;\n",
       "    }\n",
       "</style>\n",
       "<table border=\"1\" class=\"dataframe\">\n",
       "  <thead>\n",
       "    <tr style=\"text-align: right;\">\n",
       "      <th></th>\n",
       "      <th>_unit_id</th>\n",
       "      <th>_golden</th>\n",
       "      <th>_unit_state</th>\n",
       "      <th>_trusted_judgments</th>\n",
       "      <th>_last_judgment_at</th>\n",
       "      <th>sentiment</th>\n",
       "      <th>sentiment:confidence</th>\n",
       "      <th>date</th>\n",
       "      <th>id</th>\n",
       "      <th>query</th>\n",
       "      <th>sentiment_gold</th>\n",
       "      <th>text</th>\n",
       "    </tr>\n",
       "  </thead>\n",
       "  <tbody>\n",
       "    <tr>\n",
       "      <th>0</th>\n",
       "      <td>623495513</td>\n",
       "      <td>True</td>\n",
       "      <td>golden</td>\n",
       "      <td>10</td>\n",
       "      <td>NaN</td>\n",
       "      <td>3</td>\n",
       "      <td>0.6264</td>\n",
       "      <td>Mon Dec 01 19:30:03 +0000 2014</td>\n",
       "      <td>5.400000e+17</td>\n",
       "      <td>#AAPL OR @Apple</td>\n",
       "      <td>3\\nnot_relevant</td>\n",
       "      <td>#AAPL:The 10 best Steve Jobs emails ever...htt...</td>\n",
       "    </tr>\n",
       "    <tr>\n",
       "      <th>1</th>\n",
       "      <td>623495514</td>\n",
       "      <td>True</td>\n",
       "      <td>golden</td>\n",
       "      <td>12</td>\n",
       "      <td>NaN</td>\n",
       "      <td>3</td>\n",
       "      <td>0.8129</td>\n",
       "      <td>Mon Dec 01 19:43:51 +0000 2014</td>\n",
       "      <td>5.400000e+17</td>\n",
       "      <td>#AAPL OR @Apple</td>\n",
       "      <td>3\\n1</td>\n",
       "      <td>RT @JPDesloges: Why AAPL Stock Had a Mini-Flas...</td>\n",
       "    </tr>\n",
       "    <tr>\n",
       "      <th>2</th>\n",
       "      <td>623495515</td>\n",
       "      <td>True</td>\n",
       "      <td>golden</td>\n",
       "      <td>10</td>\n",
       "      <td>NaN</td>\n",
       "      <td>3</td>\n",
       "      <td>1.0000</td>\n",
       "      <td>Mon Dec 01 19:50:28 +0000 2014</td>\n",
       "      <td>5.400000e+17</td>\n",
       "      <td>#AAPL OR @Apple</td>\n",
       "      <td>3</td>\n",
       "      <td>My cat only chews @apple cords. Such an #Apple...</td>\n",
       "    </tr>\n",
       "    <tr>\n",
       "      <th>3</th>\n",
       "      <td>623495516</td>\n",
       "      <td>True</td>\n",
       "      <td>golden</td>\n",
       "      <td>17</td>\n",
       "      <td>NaN</td>\n",
       "      <td>3</td>\n",
       "      <td>0.5848</td>\n",
       "      <td>Mon Dec 01 20:26:34 +0000 2014</td>\n",
       "      <td>5.400000e+17</td>\n",
       "      <td>#AAPL OR @Apple</td>\n",
       "      <td>3\\n1</td>\n",
       "      <td>I agree with @jimcramer that the #IndividualIn...</td>\n",
       "    </tr>\n",
       "    <tr>\n",
       "      <th>4</th>\n",
       "      <td>623495517</td>\n",
       "      <td>False</td>\n",
       "      <td>finalized</td>\n",
       "      <td>3</td>\n",
       "      <td>12/12/14 12:14</td>\n",
       "      <td>3</td>\n",
       "      <td>0.6474</td>\n",
       "      <td>Mon Dec 01 20:29:33 +0000 2014</td>\n",
       "      <td>5.400000e+17</td>\n",
       "      <td>#AAPL OR @Apple</td>\n",
       "      <td>NaN</td>\n",
       "      <td>Nobody expects the Spanish Inquisition #AAPL</td>\n",
       "    </tr>\n",
       "  </tbody>\n",
       "</table>\n",
       "</div>"
      ],
      "text/plain": [
       "    _unit_id  _golden _unit_state  _trusted_judgments _last_judgment_at  \\\n",
       "0  623495513     True      golden                  10               NaN   \n",
       "1  623495514     True      golden                  12               NaN   \n",
       "2  623495515     True      golden                  10               NaN   \n",
       "3  623495516     True      golden                  17               NaN   \n",
       "4  623495517    False   finalized                   3    12/12/14 12:14   \n",
       "\n",
       "  sentiment  sentiment:confidence                            date  \\\n",
       "0         3                0.6264  Mon Dec 01 19:30:03 +0000 2014   \n",
       "1         3                0.8129  Mon Dec 01 19:43:51 +0000 2014   \n",
       "2         3                1.0000  Mon Dec 01 19:50:28 +0000 2014   \n",
       "3         3                0.5848  Mon Dec 01 20:26:34 +0000 2014   \n",
       "4         3                0.6474  Mon Dec 01 20:29:33 +0000 2014   \n",
       "\n",
       "             id            query   sentiment_gold  \\\n",
       "0  5.400000e+17  #AAPL OR @Apple  3\\nnot_relevant   \n",
       "1  5.400000e+17  #AAPL OR @Apple             3\\n1   \n",
       "2  5.400000e+17  #AAPL OR @Apple                3   \n",
       "3  5.400000e+17  #AAPL OR @Apple             3\\n1   \n",
       "4  5.400000e+17  #AAPL OR @Apple              NaN   \n",
       "\n",
       "                                                text  \n",
       "0  #AAPL:The 10 best Steve Jobs emails ever...htt...  \n",
       "1  RT @JPDesloges: Why AAPL Stock Had a Mini-Flas...  \n",
       "2  My cat only chews @apple cords. Such an #Apple...  \n",
       "3  I agree with @jimcramer that the #IndividualIn...  \n",
       "4       Nobody expects the Spanish Inquisition #AAPL  "
      ]
     },
     "execution_count": 2,
     "metadata": {},
     "output_type": "execute_result"
    }
   ],
   "source": [
    "# loading the dataset\n",
    "df=pd.read_csv(\"Apple-Twitter-Sentiment-DFE.csv\",encoding=\"ISO-8859-1\")\n",
    "df.head()"
   ]
  },
  {
   "cell_type": "markdown",
   "id": "6d70f14c",
   "metadata": {},
   "source": [
    "\n",
    "\n",
    "We load the Apple Twitter Sentiment dataset from a CSV file using `pandas.read_csv`. Since the file contains special characters, we specify the encoding as `ISO-8859-1`.\n",
    "\n",
    "The dataset contains various metadata columns related to tweet annotations as well as the actual tweet text and sentiment labels.\n"
   ]
  },
  {
   "cell_type": "code",
   "execution_count": 3,
   "id": "7b5874db",
   "metadata": {},
   "outputs": [
    {
     "data": {
      "text/html": [
       "<div>\n",
       "<style scoped>\n",
       "    .dataframe tbody tr th:only-of-type {\n",
       "        vertical-align: middle;\n",
       "    }\n",
       "\n",
       "    .dataframe tbody tr th {\n",
       "        vertical-align: top;\n",
       "    }\n",
       "\n",
       "    .dataframe thead th {\n",
       "        text-align: right;\n",
       "    }\n",
       "</style>\n",
       "<table border=\"1\" class=\"dataframe\">\n",
       "  <thead>\n",
       "    <tr style=\"text-align: right;\">\n",
       "      <th></th>\n",
       "      <th>sentiment</th>\n",
       "      <th>sentiment:confidence</th>\n",
       "      <th>text</th>\n",
       "    </tr>\n",
       "  </thead>\n",
       "  <tbody>\n",
       "    <tr>\n",
       "      <th>0</th>\n",
       "      <td>3</td>\n",
       "      <td>0.6264</td>\n",
       "      <td>#AAPL:The 10 best Steve Jobs emails ever...htt...</td>\n",
       "    </tr>\n",
       "    <tr>\n",
       "      <th>1</th>\n",
       "      <td>3</td>\n",
       "      <td>0.8129</td>\n",
       "      <td>RT @JPDesloges: Why AAPL Stock Had a Mini-Flas...</td>\n",
       "    </tr>\n",
       "    <tr>\n",
       "      <th>2</th>\n",
       "      <td>3</td>\n",
       "      <td>1.0000</td>\n",
       "      <td>My cat only chews @apple cords. Such an #Apple...</td>\n",
       "    </tr>\n",
       "    <tr>\n",
       "      <th>3</th>\n",
       "      <td>3</td>\n",
       "      <td>0.5848</td>\n",
       "      <td>I agree with @jimcramer that the #IndividualIn...</td>\n",
       "    </tr>\n",
       "    <tr>\n",
       "      <th>4</th>\n",
       "      <td>3</td>\n",
       "      <td>0.6474</td>\n",
       "      <td>Nobody expects the Spanish Inquisition #AAPL</td>\n",
       "    </tr>\n",
       "  </tbody>\n",
       "</table>\n",
       "</div>"
      ],
      "text/plain": [
       "  sentiment  sentiment:confidence  \\\n",
       "0         3                0.6264   \n",
       "1         3                0.8129   \n",
       "2         3                1.0000   \n",
       "3         3                0.5848   \n",
       "4         3                0.6474   \n",
       "\n",
       "                                                text  \n",
       "0  #AAPL:The 10 best Steve Jobs emails ever...htt...  \n",
       "1  RT @JPDesloges: Why AAPL Stock Had a Mini-Flas...  \n",
       "2  My cat only chews @apple cords. Such an #Apple...  \n",
       "3  I agree with @jimcramer that the #IndividualIn...  \n",
       "4       Nobody expects the Spanish Inquisition #AAPL  "
      ]
     },
     "execution_count": 3,
     "metadata": {},
     "output_type": "execute_result"
    }
   ],
   "source": [
    "# extracting the relevant columns\n",
    "df_rel=df[[\"sentiment\",\"sentiment:confidence\",\"text\"]]\n",
    "df_rel.head()"
   ]
  },
  {
   "cell_type": "markdown",
   "id": "b9f0b225",
   "metadata": {},
   "source": [
    "From the loaded dataset, we extract only the columns that are directly relevant for sentiment analysis:\n",
    "\n",
    "- `sentiment`: the label or target variable\n",
    "- `sentiment:confidence`: confidence score of the assigned label\n",
    "- `text`: the actual tweet text we want to analyze\n",
    "\n",
    "This step simplifies our dataset to only what's necessary for modeling and text preprocessing.\n"
   ]
  },
  {
   "cell_type": "code",
   "execution_count": 4,
   "id": "c5bb8492",
   "metadata": {},
   "outputs": [],
   "source": [
    "# renaming the sentiment:confidence column\n",
    "df_rel=df_rel.rename(columns={\"sentiment:confidence\":\"sentiment confidence\"})"
   ]
  },
  {
   "cell_type": "markdown",
   "id": "e94b1102",
   "metadata": {},
   "source": [
    "\n",
    "Here, we rename the column `sentiment:confidence` to `sentiment confidence` for easier access and improved readability in our analysis and model-building code.\n"
   ]
  },
  {
   "cell_type": "code",
   "execution_count": 5,
   "id": "74f620ed",
   "metadata": {},
   "outputs": [
    {
     "name": "stdout",
     "output_type": "stream",
     "text": [
      "<class 'pandas.core.frame.DataFrame'>\n",
      "RangeIndex: 3886 entries, 0 to 3885\n",
      "Data columns (total 3 columns):\n",
      " #   Column                Non-Null Count  Dtype  \n",
      "---  ------                --------------  -----  \n",
      " 0   sentiment             3886 non-null   object \n",
      " 1   sentiment confidence  3886 non-null   float64\n",
      " 2   text                  3886 non-null   object \n",
      "dtypes: float64(1), object(2)\n",
      "memory usage: 91.2+ KB\n"
     ]
    }
   ],
   "source": [
    "# summary of the dataset\n",
    "df_rel.info()"
   ]
  },
  {
   "cell_type": "markdown",
   "id": "21a4af15",
   "metadata": {},
   "source": [
    "\n",
    "In this step, we examine a concise summary of the dataset. It contains 3 columns and 3,886 entries. The `sentiment` and `sentiment confidence` columns are currently stored as object types, suggesting the need for further inspection and possible data type conversion before modeling.\n"
   ]
  },
  {
   "cell_type": "code",
   "execution_count": 6,
   "id": "52d2791d",
   "metadata": {},
   "outputs": [
    {
     "name": "stdout",
     "output_type": "stream",
     "text": [
      "3               2162\n",
      "1               1219\n",
      "5                423\n",
      "not_relevant      82\n",
      "Name: sentiment, dtype: int64\n",
      "1.0000    1899\n",
      "0.6722      46\n",
      "0.6884      32\n",
      "0.6825      29\n",
      "0.6635      27\n",
      "          ... \n",
      "0.8578       1\n",
      "0.4882       1\n",
      "0.6490       1\n",
      "0.6686       1\n",
      "0.9230       1\n",
      "Name: sentiment confidence, Length: 654, dtype: int64\n"
     ]
    }
   ],
   "source": [
    "col_check=[\"sentiment\",\"sentiment confidence\"]\n",
    "for col in col_check:\n",
    "    print(df_rel[col].value_counts())"
   ]
  },
  {
   "cell_type": "markdown",
   "id": "c5da7152",
   "metadata": {},
   "source": [
    "We inspect the value counts of two key columns:\n",
    "- `sentiment`: to see how many tweets fall into each label category\n",
    "- `sentiment confidence`: to examine the spread of confidence scores assigned during annotation\n",
    "\n",
    "This step helps us identify possible anomalies like unexpected labels (e.g., `not_relevant`) and decide on thresholding for label quality based on confidence.\n"
   ]
  },
  {
   "cell_type": "code",
   "execution_count": 7,
   "id": "b8c98158",
   "metadata": {},
   "outputs": [
    {
     "name": "stdout",
     "output_type": "stream",
     "text": [
      "<class 'pandas.core.frame.DataFrame'>\n",
      "RangeIndex: 3886 entries, 0 to 3885\n",
      "Data columns (total 3 columns):\n",
      " #   Column                Non-Null Count  Dtype  \n",
      "---  ------                --------------  -----  \n",
      " 0   sentiment             3804 non-null   float64\n",
      " 1   sentiment confidence  3886 non-null   float64\n",
      " 2   text                  3886 non-null   object \n",
      "dtypes: float64(2), object(1)\n",
      "memory usage: 91.2+ KB\n"
     ]
    }
   ],
   "source": [
    "# casting 'sentiment' and 'sentiment confidence' column values to integers\n",
    "df_rel[\"sentiment confidence\"] = pd.to_numeric(df_rel[\"sentiment confidence\"], errors='coerce')\n",
    "df_rel[\"sentiment\"] = pd.to_numeric(df_rel[\"sentiment\"], errors='coerce')\n",
    "df_rel.info()\n"
   ]
  },
  {
   "cell_type": "markdown",
   "id": "87f5400f",
   "metadata": {},
   "source": [
    "\n",
    "\n",
    "This cell ensures that the `sentiment` and `sentiment confidence` columns are properly converted to numeric values using `pd.to_numeric`.\n",
    "\n",
    "We use `errors='coerce'` to handle invalid entries (e.g., text labels like `'not_relevant'`) by converting them to `NaN`.\n",
    "\n",
    "After conversion, we call `.info()` again to verify the changes and identify any new missing values introduced during the coercion.\n"
   ]
  },
  {
   "cell_type": "code",
   "execution_count": 8,
   "id": "1c320188",
   "metadata": {},
   "outputs": [],
   "source": [
    "# creating a function to clean the dataset\n",
    "def clean(df):\n",
    "    print(f\"null : {df.isna().sum()}\")\n",
    "    df=df.dropna()\n",
    "    print(f\"is duplicated : {df.duplicated().sum()}\")\n",
    "    df=df.drop_duplicates()\n",
    "    return df\n",
    "    "
   ]
  },
  {
   "cell_type": "markdown",
   "id": "540285af",
   "metadata": {},
   "source": [
    "Here we define a reusable function called `clean(df)` to perform essential dataset cleaning:\n",
    "- Display the number of missing values (`NaN`)\n",
    "- Drop rows with missing values\n",
    "- Display the number of duplicate rows\n",
    "- Remove duplicate rows\n",
    "\n",
    "The cleaned DataFrame is returned for further use in model development.\n"
   ]
  },
  {
   "cell_type": "code",
   "execution_count": 9,
   "id": "b1b81df0",
   "metadata": {},
   "outputs": [
    {
     "name": "stdout",
     "output_type": "stream",
     "text": [
      "null : sentiment               82\n",
      "sentiment confidence     0\n",
      "text                     0\n",
      "dtype: int64\n",
      "is duplicated : 382\n",
      "<class 'pandas.core.frame.DataFrame'>\n",
      "Int64Index: 3422 entries, 0 to 3885\n",
      "Data columns (total 3 columns):\n",
      " #   Column                Non-Null Count  Dtype  \n",
      "---  ------                --------------  -----  \n",
      " 0   sentiment             3422 non-null   float64\n",
      " 1   sentiment confidence  3422 non-null   float64\n",
      " 2   text                  3422 non-null   object \n",
      "dtypes: float64(2), object(1)\n",
      "memory usage: 106.9+ KB\n"
     ]
    }
   ],
   "source": [
    "# utilizing the clean function\n",
    "df_clean=clean(df_rel)\n",
    "df_clean.info()"
   ]
  },
  {
   "cell_type": "markdown",
   "id": "cca5f4a5",
   "metadata": {},
   "source": [
    "## text preprocessing"
   ]
  },
  {
   "cell_type": "markdown",
   "id": "9a339c6b",
   "metadata": {},
   "source": [
    "Text Preprocessing is traditionally an important step for Natural Language Processing (NLP) tasks. It transforms text into a more digestible form so that machine learning algorithms can perform better.\n",
    "\n",
    "The Preprocessing steps taken are:\n",
    "\n",
    "- Lower Casing: Each text is converted to lowercase.\n",
    "- Replacing URLs: Links starting with \"http\" or \"https\" or \"www\" are replaced by space.\n",
    "- Replacing Usernames: Replace @Usernames with space\n",
    "- Removing Non-Alphabets: Replacing characters except Digits and Alphabets with a space.\n",
    "- Removing Consecutive letters: 3 or more consecutive letters are replaced by 2 letters. (eg: \"Heyyyy\" to \"Heyy\")\n",
    "- Removing Short Words: Words with length less than 2 are removed.\n",
    "- Removing Stopwords: Stopwords are the English words which does not add much meaning to a sentence. They can safely be ignored without sacrificing the meaning of the sentence. (eg: \"the\", \"he\", \"have\")\n",
    "- Lemmatizing: Lemmatization is the process of converting a word to its base form. (e.g: “Great” to “Good”)"
   ]
  },
  {
   "cell_type": "code",
   "execution_count": 10,
   "id": "f0a78f30",
   "metadata": {},
   "outputs": [
    {
     "name": "stderr",
     "output_type": "stream",
     "text": [
      "[nltk_data] Downloading package wordnet to C:\\Users\\USER\n",
      "[nltk_data]     PC\\AppData\\Roaming\\nltk_data...\n",
      "[nltk_data]   Package wordnet is already up-to-date!\n",
      "[nltk_data] Downloading package stopwords to C:\\Users\\USER\n",
      "[nltk_data]     PC\\AppData\\Roaming\\nltk_data...\n",
      "[nltk_data]   Package stopwords is already up-to-date!\n"
     ]
    }
   ],
   "source": [
    "import re\n",
    "import nltk\n",
    "from nltk.corpus import stopwords\n",
    "nltk.download('wordnet')\n",
    "nltk.download('stopwords')\n",
    "\n",
    "def preprocess_tweets(series):\n",
    "    wordLemm = nltk.WordNetLemmatizer()\n",
    "    stop_words = set(stopwords.words('english'))\n",
    "\n",
    "    # Regex patterns\n",
    "    urlPattern        = r\"((http://)[^ ]*|(https://)[^ ]*|( www\\.)[^ ]*)\"\n",
    "    userPattern       = '@[^\\s]+'\n",
    "    alphaPattern      = \"[^a-zA-Z]\"\n",
    "    sequencePattern   = r\"(.)\\1\\1+\"\n",
    "    seqReplacePattern = r\"\\1\\1\"\n",
    "\n",
    "    def clean_tweet(tweet):\n",
    "        tweet = str(tweet).lower()\n",
    "        tweet = re.sub(urlPattern, ' ', tweet)\n",
    "        tweet = re.sub(userPattern, ' ', tweet)\n",
    "        tweet = re.sub(alphaPattern, \" \", tweet)\n",
    "        tweet = re.sub(sequencePattern, seqReplacePattern, tweet)\n",
    "\n",
    "        words = []\n",
    "        for word in tweet.split():\n",
    "            if word not in stop_words and len(word) > 1:\n",
    "                word = wordLemm.lemmatize(word)\n",
    "                words.append(word)\n",
    "        return \" \".join(words)\n",
    "\n",
    "    return series.apply(clean_tweet)\n"
   ]
  },
  {
   "cell_type": "code",
   "execution_count": 11,
   "id": "0e31d12e",
   "metadata": {},
   "outputs": [],
   "source": [
    "df_clean['processed'] = preprocess_tweets(df_clean['text'])  # or whatever column contains your raw tweets"
   ]
  },
  {
   "cell_type": "code",
   "execution_count": 12,
   "id": "c8932722",
   "metadata": {},
   "outputs": [
    {
     "data": {
      "text/html": [
       "<div>\n",
       "<style scoped>\n",
       "    .dataframe tbody tr th:only-of-type {\n",
       "        vertical-align: middle;\n",
       "    }\n",
       "\n",
       "    .dataframe tbody tr th {\n",
       "        vertical-align: top;\n",
       "    }\n",
       "\n",
       "    .dataframe thead th {\n",
       "        text-align: right;\n",
       "    }\n",
       "</style>\n",
       "<table border=\"1\" class=\"dataframe\">\n",
       "  <thead>\n",
       "    <tr style=\"text-align: right;\">\n",
       "      <th></th>\n",
       "      <th>sentiment</th>\n",
       "      <th>sentiment confidence</th>\n",
       "      <th>text</th>\n",
       "      <th>processed</th>\n",
       "    </tr>\n",
       "  </thead>\n",
       "  <tbody>\n",
       "    <tr>\n",
       "      <th>0</th>\n",
       "      <td>3.0</td>\n",
       "      <td>0.6264</td>\n",
       "      <td>#AAPL:The 10 best Steve Jobs emails ever...htt...</td>\n",
       "      <td>aapl best steve job email ever</td>\n",
       "    </tr>\n",
       "    <tr>\n",
       "      <th>1</th>\n",
       "      <td>3.0</td>\n",
       "      <td>0.8129</td>\n",
       "      <td>RT @JPDesloges: Why AAPL Stock Had a Mini-Flas...</td>\n",
       "      <td>rt aapl stock mini flash crash today aapl aapl</td>\n",
       "    </tr>\n",
       "    <tr>\n",
       "      <th>2</th>\n",
       "      <td>3.0</td>\n",
       "      <td>1.0000</td>\n",
       "      <td>My cat only chews @apple cords. Such an #Apple...</td>\n",
       "      <td>cat chew cord applesnob</td>\n",
       "    </tr>\n",
       "    <tr>\n",
       "      <th>3</th>\n",
       "      <td>3.0</td>\n",
       "      <td>0.5848</td>\n",
       "      <td>I agree with @jimcramer that the #IndividualIn...</td>\n",
       "      <td>agree individualinvestor trade apple aapl exte...</td>\n",
       "    </tr>\n",
       "    <tr>\n",
       "      <th>4</th>\n",
       "      <td>3.0</td>\n",
       "      <td>0.6474</td>\n",
       "      <td>Nobody expects the Spanish Inquisition #AAPL</td>\n",
       "      <td>nobody expects spanish inquisition aapl</td>\n",
       "    </tr>\n",
       "    <tr>\n",
       "      <th>...</th>\n",
       "      <td>...</td>\n",
       "      <td>...</td>\n",
       "      <td>...</td>\n",
       "      <td>...</td>\n",
       "    </tr>\n",
       "    <tr>\n",
       "      <th>3881</th>\n",
       "      <td>3.0</td>\n",
       "      <td>0.7757</td>\n",
       "      <td>(Via FC) Apple Is Warming Up To Social Media -...</td>\n",
       "      <td>via fc apple warming social medium apple hirin...</td>\n",
       "    </tr>\n",
       "    <tr>\n",
       "      <th>3882</th>\n",
       "      <td>3.0</td>\n",
       "      <td>0.6225</td>\n",
       "      <td>RT @MMLXIV: there is no avocado emoji may I as...</td>\n",
       "      <td>rt avocado emoji may ask</td>\n",
       "    </tr>\n",
       "    <tr>\n",
       "      <th>3883</th>\n",
       "      <td>5.0</td>\n",
       "      <td>0.9347</td>\n",
       "      <td>@marcbulandr I could not agree more. Between @...</td>\n",
       "      <td>could agree great thing happen appleandibm ibm...</td>\n",
       "    </tr>\n",
       "    <tr>\n",
       "      <th>3884</th>\n",
       "      <td>1.0</td>\n",
       "      <td>0.9230</td>\n",
       "      <td>My iPhone 5's photos are no longer downloading...</td>\n",
       "      <td>iphone photo longer downloading automatically ...</td>\n",
       "    </tr>\n",
       "    <tr>\n",
       "      <th>3885</th>\n",
       "      <td>5.0</td>\n",
       "      <td>0.8938</td>\n",
       "      <td>RT @SwiftKey: We're so excited to be named to ...</td>\n",
       "      <td>rt excited named app store best list year apple</td>\n",
       "    </tr>\n",
       "  </tbody>\n",
       "</table>\n",
       "<p>3422 rows × 4 columns</p>\n",
       "</div>"
      ],
      "text/plain": [
       "      sentiment  sentiment confidence  \\\n",
       "0           3.0                0.6264   \n",
       "1           3.0                0.8129   \n",
       "2           3.0                1.0000   \n",
       "3           3.0                0.5848   \n",
       "4           3.0                0.6474   \n",
       "...         ...                   ...   \n",
       "3881        3.0                0.7757   \n",
       "3882        3.0                0.6225   \n",
       "3883        5.0                0.9347   \n",
       "3884        1.0                0.9230   \n",
       "3885        5.0                0.8938   \n",
       "\n",
       "                                                   text  \\\n",
       "0     #AAPL:The 10 best Steve Jobs emails ever...htt...   \n",
       "1     RT @JPDesloges: Why AAPL Stock Had a Mini-Flas...   \n",
       "2     My cat only chews @apple cords. Such an #Apple...   \n",
       "3     I agree with @jimcramer that the #IndividualIn...   \n",
       "4          Nobody expects the Spanish Inquisition #AAPL   \n",
       "...                                                 ...   \n",
       "3881  (Via FC) Apple Is Warming Up To Social Media -...   \n",
       "3882  RT @MMLXIV: there is no avocado emoji may I as...   \n",
       "3883  @marcbulandr I could not agree more. Between @...   \n",
       "3884  My iPhone 5's photos are no longer downloading...   \n",
       "3885  RT @SwiftKey: We're so excited to be named to ...   \n",
       "\n",
       "                                              processed  \n",
       "0                        aapl best steve job email ever  \n",
       "1        rt aapl stock mini flash crash today aapl aapl  \n",
       "2                               cat chew cord applesnob  \n",
       "3     agree individualinvestor trade apple aapl exte...  \n",
       "4               nobody expects spanish inquisition aapl  \n",
       "...                                                 ...  \n",
       "3881  via fc apple warming social medium apple hirin...  \n",
       "3882                           rt avocado emoji may ask  \n",
       "3883  could agree great thing happen appleandibm ibm...  \n",
       "3884  iphone photo longer downloading automatically ...  \n",
       "3885    rt excited named app store best list year apple  \n",
       "\n",
       "[3422 rows x 4 columns]"
      ]
     },
     "execution_count": 12,
     "metadata": {},
     "output_type": "execute_result"
    }
   ],
   "source": [
    "df_clean"
   ]
  },
  {
   "cell_type": "markdown",
   "id": "f0d08528",
   "metadata": {},
   "source": [
    "## Exploratory Data Analysis"
   ]
  },
  {
   "cell_type": "markdown",
   "id": "249d3d41",
   "metadata": {},
   "source": [
    "To improve clarity and interpretability, we rename the values in the **sentiment** column. This makes the labels more descriptive and easier to understand during analysis and visualization.\n"
   ]
  },
  {
   "cell_type": "code",
   "execution_count": 13,
   "id": "22f8faf8",
   "metadata": {},
   "outputs": [],
   "source": [
    "# renaming the sentiment column values\n",
    "df_clean[\"sentiment\"]=df_clean[\"sentiment\"].replace({1.0:\"Negative\",3.0:\"Neutral\",5.0:\"positive\"})"
   ]
  },
  {
   "cell_type": "markdown",
   "id": "ce29ac5d",
   "metadata": {},
   "source": [
    "### checking for the spread of sentiments\n"
   ]
  },
  {
   "cell_type": "markdown",
   "id": "e8943639",
   "metadata": {},
   "source": [
    "To understand the distribution of our target classes, we plot a count plot. This visualization helps us identify any class imbalances that may exist in the dataset.\n"
   ]
  },
  {
   "cell_type": "code",
   "execution_count": 14,
   "id": "88685bcd",
   "metadata": {},
   "outputs": [
    {
     "data": {
      "image/png": "[encoded data removed]",
      "text/plain": [
       "<Figure size 1080x720 with 1 Axes>"
      ]
     },
     "metadata": {
      "needs_background": "light"
     },
     "output_type": "display_data"
    }
   ],
   "source": [
    "# importing Plot class\n",
    "from kev_plot import Plot\n",
    "# initializing the class\n",
    "plot=Plot()\n",
    "plot.countplot(data=df_clean,x=\"sentiment\")"
   ]
  },
  {
   "cell_type": "markdown",
   "id": "6581a689",
   "metadata": {},
   "source": [
    "The count plot illustrates the distribution of tweets across three sentiment categories: neutral, positive, and negative. From the chart, it is evident that neutral tweets are the most frequent, significantly outnumbering the other two classes. Negative tweets follow, indicating that a considerable portion of the tweets express dissatisfaction or criticism. On the other hand, positive tweets are the least represented in the dataset.\n",
    "\n",
    "This imbalance in the sentiment classes suggests that the dataset is not evenly distributed, which could have implications for any machine learning models trained on this data. For example, models might become biased toward predicting the majority class (neutral sentiment) unless appropriate measures—such as class weighting or resampling—are taken during preprocessing.\n",
    "\n",
    "Understanding this distribution is an important first step in preparing the data for analysis, as it highlights the need for careful handling of class imbalance to ensure accurate and fair predictions across all sentiment categories."
   ]
  },
  {
   "cell_type": "markdown",
   "id": "45ed67aa",
   "metadata": {},
   "source": [
    "### Feature Engineering"
   ]
  },
  {
   "cell_type": "markdown",
   "id": "77281956",
   "metadata": {},
   "source": [
    "To enhance our understanding of the dataset, we create additional columns that capture the number of characters, sentences, and words in each text entry. These new features will allow us to explore the structural properties of the text and may provide useful signals for downstream analysis or modeling."
   ]
  },
  {
   "cell_type": "code",
   "execution_count": 15,
   "id": "0244a24f",
   "metadata": {},
   "outputs": [
    {
     "data": {
      "text/html": [
       "<div>\n",
       "<style scoped>\n",
       "    .dataframe tbody tr th:only-of-type {\n",
       "        vertical-align: middle;\n",
       "    }\n",
       "\n",
       "    .dataframe tbody tr th {\n",
       "        vertical-align: top;\n",
       "    }\n",
       "\n",
       "    .dataframe thead th {\n",
       "        text-align: right;\n",
       "    }\n",
       "</style>\n",
       "<table border=\"1\" class=\"dataframe\">\n",
       "  <thead>\n",
       "    <tr style=\"text-align: right;\">\n",
       "      <th></th>\n",
       "      <th>sentiment</th>\n",
       "      <th>sentiment confidence</th>\n",
       "      <th>text</th>\n",
       "      <th>processed</th>\n",
       "      <th>char</th>\n",
       "      <th>words</th>\n",
       "      <th>sentences</th>\n",
       "    </tr>\n",
       "  </thead>\n",
       "  <tbody>\n",
       "    <tr>\n",
       "      <th>809</th>\n",
       "      <td>positive</td>\n",
       "      <td>0.6904</td>\n",
       "      <td>Huge iPhone 6 Sales Push iOS market Share Up W...</td>\n",
       "      <td>huge iphone sale push io market share worldwid...</td>\n",
       "      <td>98</td>\n",
       "      <td>19</td>\n",
       "      <td>1</td>\n",
       "    </tr>\n",
       "    <tr>\n",
       "      <th>2990</th>\n",
       "      <td>positive</td>\n",
       "      <td>0.7380</td>\n",
       "      <td>Takes more than #marketing to convert shoppers...</td>\n",
       "      <td>take marketing convert shopper buyer amp creat...</td>\n",
       "      <td>143</td>\n",
       "      <td>27</td>\n",
       "      <td>3</td>\n",
       "    </tr>\n",
       "    <tr>\n",
       "      <th>3101</th>\n",
       "      <td>Negative</td>\n",
       "      <td>1.0000</td>\n",
       "      <td>Theyre not RT @Naivana_: You gotta be kidding ...</td>\n",
       "      <td>theyre rt gotta kidding</td>\n",
       "      <td>78</td>\n",
       "      <td>17</td>\n",
       "      <td>1</td>\n",
       "    </tr>\n",
       "    <tr>\n",
       "      <th>387</th>\n",
       "      <td>Negative</td>\n",
       "      <td>0.6387</td>\n",
       "      <td>.@Apple faces $1B lawsuit over iPod allegation...</td>\n",
       "      <td>face lawsuit ipod allegation legal tech lawsuit</td>\n",
       "      <td>93</td>\n",
       "      <td>20</td>\n",
       "      <td>2</td>\n",
       "    </tr>\n",
       "    <tr>\n",
       "      <th>3511</th>\n",
       "      <td>Neutral</td>\n",
       "      <td>1.0000</td>\n",
       "      <td>@Apple #Pay Or @google #Wallet: Which is Bette...</td>\n",
       "      <td>pay wallet better biztechltd</td>\n",
       "      <td>108</td>\n",
       "      <td>22</td>\n",
       "      <td>2</td>\n",
       "    </tr>\n",
       "    <tr>\n",
       "      <th>3065</th>\n",
       "      <td>positive</td>\n",
       "      <td>0.6513</td>\n",
       "      <td>RT @schreier: It makes you smarter.  Elevate i...</td>\n",
       "      <td>rt make smarter elevate app year congratulatio...</td>\n",
       "      <td>136</td>\n",
       "      <td>27</td>\n",
       "      <td>4</td>\n",
       "    </tr>\n",
       "    <tr>\n",
       "      <th>2267</th>\n",
       "      <td>Neutral</td>\n",
       "      <td>0.6774</td>\n",
       "      <td>4.5 min silence #MikeBrown #NYC protesters @Ap...</td>\n",
       "      <td>min silence mikebrown nyc protester store eric...</td>\n",
       "      <td>136</td>\n",
       "      <td>22</td>\n",
       "      <td>1</td>\n",
       "    </tr>\n",
       "    <tr>\n",
       "      <th>440</th>\n",
       "      <td>Neutral</td>\n",
       "      <td>0.6578</td>\n",
       "      <td>#AAPL:Apple Should Fight The New Court Case Ov...</td>\n",
       "      <td>aapl apple fight new court case steve job drm ...</td>\n",
       "      <td>98</td>\n",
       "      <td>20</td>\n",
       "      <td>1</td>\n",
       "    </tr>\n",
       "    <tr>\n",
       "      <th>362</th>\n",
       "      <td>Neutral</td>\n",
       "      <td>1.0000</td>\n",
       "      <td>@Apple [#Apple] #Patents An #iPhone Drop Prote...</td>\n",
       "      <td>apple patent iphone drop protection mechanism ...</td>\n",
       "      <td>133</td>\n",
       "      <td>29</td>\n",
       "      <td>1</td>\n",
       "    </tr>\n",
       "    <tr>\n",
       "      <th>1818</th>\n",
       "      <td>Neutral</td>\n",
       "      <td>1.0000</td>\n",
       "      <td>Will Apple Inc.'s Profit Margin Continue Upwar...</td>\n",
       "      <td>apple inc profit margin continue upward aapl</td>\n",
       "      <td>77</td>\n",
       "      <td>14</td>\n",
       "      <td>2</td>\n",
       "    </tr>\n",
       "  </tbody>\n",
       "</table>\n",
       "</div>"
      ],
      "text/plain": [
       "     sentiment  sentiment confidence  \\\n",
       "809   positive                0.6904   \n",
       "2990  positive                0.7380   \n",
       "3101  Negative                1.0000   \n",
       "387   Negative                0.6387   \n",
       "3511   Neutral                1.0000   \n",
       "3065  positive                0.6513   \n",
       "2267   Neutral                0.6774   \n",
       "440    Neutral                0.6578   \n",
       "362    Neutral                1.0000   \n",
       "1818   Neutral                1.0000   \n",
       "\n",
       "                                                   text  \\\n",
       "809   Huge iPhone 6 Sales Push iOS market Share Up W...   \n",
       "2990  Takes more than #marketing to convert shoppers...   \n",
       "3101  Theyre not RT @Naivana_: You gotta be kidding ...   \n",
       "387   .@Apple faces $1B lawsuit over iPod allegation...   \n",
       "3511  @Apple #Pay Or @google #Wallet: Which is Bette...   \n",
       "3065  RT @schreier: It makes you smarter.  Elevate i...   \n",
       "2267  4.5 min silence #MikeBrown #NYC protesters @Ap...   \n",
       "440   #AAPL:Apple Should Fight The New Court Case Ov...   \n",
       "362   @Apple [#Apple] #Patents An #iPhone Drop Prote...   \n",
       "1818  Will Apple Inc.'s Profit Margin Continue Upwar...   \n",
       "\n",
       "                                              processed  char  words  \\\n",
       "809   huge iphone sale push io market share worldwid...    98     19   \n",
       "2990  take marketing convert shopper buyer amp creat...   143     27   \n",
       "3101                            theyre rt gotta kidding    78     17   \n",
       "387     face lawsuit ipod allegation legal tech lawsuit    93     20   \n",
       "3511                       pay wallet better biztechltd   108     22   \n",
       "3065  rt make smarter elevate app year congratulatio...   136     27   \n",
       "2267  min silence mikebrown nyc protester store eric...   136     22   \n",
       "440   aapl apple fight new court case steve job drm ...    98     20   \n",
       "362   apple patent iphone drop protection mechanism ...   133     29   \n",
       "1818       apple inc profit margin continue upward aapl    77     14   \n",
       "\n",
       "      sentences  \n",
       "809           1  \n",
       "2990          3  \n",
       "3101          1  \n",
       "387           2  \n",
       "3511          2  \n",
       "3065          4  \n",
       "2267          1  \n",
       "440           1  \n",
       "362           1  \n",
       "1818          2  "
      ]
     },
     "execution_count": 15,
     "metadata": {},
     "output_type": "execute_result"
    }
   ],
   "source": [
    "# creating columns for number of characters, number of sentences and number of words\n",
    "df_clean[\"char\"]=df_clean[\"text\"].apply(lambda x:len(x))\n",
    "df_clean[\"words\"]=df_clean[\"text\"].apply(lambda x:nltk.word_tokenize(x)).apply(lambda x:len(x))\n",
    "df_clean[\"sentences\"]=df_clean[\"text\"].apply(lambda x:nltk.sent_tokenize(x)).apply(lambda x:len(x))\n",
    "df_clean.sample(10)"
   ]
  },
  {
   "cell_type": "markdown",
   "id": "dcf53ffa",
   "metadata": {},
   "source": [
    "### Data Description"
   ]
  },
  {
   "cell_type": "code",
   "execution_count": 16,
   "id": "7b5378d4",
   "metadata": {},
   "outputs": [
    {
     "data": {
      "text/html": [
       "<div>\n",
       "<style scoped>\n",
       "    .dataframe tbody tr th:only-of-type {\n",
       "        vertical-align: middle;\n",
       "    }\n",
       "\n",
       "    .dataframe tbody tr th {\n",
       "        vertical-align: top;\n",
       "    }\n",
       "\n",
       "    .dataframe thead th {\n",
       "        text-align: right;\n",
       "    }\n",
       "</style>\n",
       "<table border=\"1\" class=\"dataframe\">\n",
       "  <thead>\n",
       "    <tr style=\"text-align: right;\">\n",
       "      <th></th>\n",
       "      <th>sentiment confidence</th>\n",
       "      <th>char</th>\n",
       "      <th>words</th>\n",
       "      <th>sentences</th>\n",
       "    </tr>\n",
       "  </thead>\n",
       "  <tbody>\n",
       "    <tr>\n",
       "      <th>count</th>\n",
       "      <td>3422.000000</td>\n",
       "      <td>3422.000000</td>\n",
       "      <td>3422.000000</td>\n",
       "      <td>3422.000000</td>\n",
       "    </tr>\n",
       "    <tr>\n",
       "      <th>mean</th>\n",
       "      <td>0.831134</td>\n",
       "      <td>99.542665</td>\n",
       "      <td>20.823787</td>\n",
       "      <td>1.594097</td>\n",
       "    </tr>\n",
       "    <tr>\n",
       "      <th>std</th>\n",
       "      <td>0.175389</td>\n",
       "      <td>32.461059</td>\n",
       "      <td>7.230791</td>\n",
       "      <td>0.830436</td>\n",
       "    </tr>\n",
       "    <tr>\n",
       "      <th>min</th>\n",
       "      <td>0.332700</td>\n",
       "      <td>11.000000</td>\n",
       "      <td>3.000000</td>\n",
       "      <td>1.000000</td>\n",
       "    </tr>\n",
       "    <tr>\n",
       "      <th>25%</th>\n",
       "      <td>0.674925</td>\n",
       "      <td>77.000000</td>\n",
       "      <td>16.000000</td>\n",
       "      <td>1.000000</td>\n",
       "    </tr>\n",
       "    <tr>\n",
       "      <th>50%</th>\n",
       "      <td>0.853900</td>\n",
       "      <td>102.000000</td>\n",
       "      <td>21.000000</td>\n",
       "      <td>1.000000</td>\n",
       "    </tr>\n",
       "    <tr>\n",
       "      <th>75%</th>\n",
       "      <td>1.000000</td>\n",
       "      <td>130.000000</td>\n",
       "      <td>27.000000</td>\n",
       "      <td>2.000000</td>\n",
       "    </tr>\n",
       "    <tr>\n",
       "      <th>max</th>\n",
       "      <td>1.000000</td>\n",
       "      <td>148.000000</td>\n",
       "      <td>40.000000</td>\n",
       "      <td>7.000000</td>\n",
       "    </tr>\n",
       "  </tbody>\n",
       "</table>\n",
       "</div>"
      ],
      "text/plain": [
       "       sentiment confidence         char        words    sentences\n",
       "count           3422.000000  3422.000000  3422.000000  3422.000000\n",
       "mean               0.831134    99.542665    20.823787     1.594097\n",
       "std                0.175389    32.461059     7.230791     0.830436\n",
       "min                0.332700    11.000000     3.000000     1.000000\n",
       "25%                0.674925    77.000000    16.000000     1.000000\n",
       "50%                0.853900   102.000000    21.000000     1.000000\n",
       "75%                1.000000   130.000000    27.000000     2.000000\n",
       "max                1.000000   148.000000    40.000000     7.000000"
      ]
     },
     "execution_count": 16,
     "metadata": {},
     "output_type": "execute_result"
    }
   ],
   "source": [
    "df_clean.describe()"
   ]
  },
  {
   "cell_type": "markdown",
   "id": "caf6834f",
   "metadata": {},
   "source": [
    "he table above presents summary statistics for four key columns: **sentiment confidence**, **char**, **words**, and **sentences** — calculated from 3,422 tweets after cleaning.\n",
    "\n",
    "- **Sentiment Confidence**: This column represents the model’s confidence in assigning sentiment labels. The mean confidence score is approximately **0.83**, with a minimum of **0.33** and a maximum of **1.00**. The high median (0.85) and 75th percentile (1.00) suggest that most predictions were made with strong confidence. However, the standard deviation of **0.17** indicates some variability in certainty, likely due to ambiguous or neutral tweets.\n",
    "\n",
    "- **Char (Characters)**: On average, tweets contain **about 100 characters**, with lengths ranging from **11** to **148** characters. The spread (std ≈ 32.46) suggests a moderate variation in tweet length, consistent with Twitter's character limits and user writing styles.\n",
    "\n",
    "- **Words**: Each tweet has an average of **21 words**, with a minimum of **3** and a maximum of **40**. The median word count is **21**, closely aligning with the mean, indicating a fairly symmetric distribution. Most tweets fall between **16 (25%) and 27 (75%)** words, with relatively few very short or very long entries.\n",
    "\n",
    "- **Sentences**: Most tweets are concise, with an average of **1.6 sentences**. The data shows that 50% of tweets contain only **1 sentence**, and 75% contain no more than **2 sentences**. The maximum is **7**, which likely reflects a few unusually long or punctuated tweets. The small standard deviation (**0.83**) confirms that sentence count is generally low and consistent.\n",
    "\n",
    "Overall, these statistics confirm that the dataset contains **compact, mostly single-sentence tweets**, with **high sentiment confidence scores** and consistent length in terms of characters and words. This provides a solid foundation for further Natural Language Processing (NLP) tasks like classification or visualization."
   ]
  },
  {
   "cell_type": "markdown",
   "id": "61748d60",
   "metadata": {},
   "source": [
    "### box plot of the distribution of number of characters|words|sentences accross classes"
   ]
  },
  {
   "cell_type": "code",
   "execution_count": 17,
   "id": "5e7bbbad",
   "metadata": {},
   "outputs": [
    {
     "data": {
      "image/png": "[encoded data removed]",
      "text/plain": [
       "<Figure size 1080x720 with 1 Axes>"
      ]
     },
     "metadata": {
      "needs_background": "light"
     },
     "output_type": "display_data"
    }
   ],
   "source": [
    "plot.boxplot(\n",
    "    data=df_clean,\n",
    "    x='sentiment',                # Categorical variable on the x-axis\n",
    "    y='char',              # Numeric variable to plot\n",
    "    title='Tweet Length by Sentiment',\n",
    "    xlabel='Sentiment Class',\n",
    "    ylabel='Number of Characters')"
   ]
  },
  {
   "cell_type": "markdown",
   "id": "a1968445",
   "metadata": {},
   "source": [
    "The boxplot illustrates how tweet lengths, measured by the number of characters, are distributed across three sentiment categories: Neutral, Positive, and Negative.\n",
    "\n",
    "Across all three classes, the median tweet length is relatively similar, though positive tweets appear to be slightly longer on average. The interquartile range (IQR)—which shows the middle 50% of tweet lengths—is broader for neutral and positive tweets, indicating greater variability in how long those tweets tend to be. In contrast, negative tweets show a slightly narrower range, suggesting more consistency in their length.\n",
    "\n",
    "There are also outliers present in all three sentiment categories. These represent tweets that are either very short or unusually long, possibly reflecting highly condensed messages or those that approach the character limit of the platform.\n",
    "\n",
    "In general, neutral and positive tweets tend to be longer than negative ones, though the overall character count range is similar across all sentiments. This distribution is valuable when exploring how sentiment correlates with tweet length and can serve as a useful feature during text preprocessing or model development for sentiment classification."
   ]
  },
  {
   "cell_type": "code",
   "execution_count": 18,
   "id": "18ae6829",
   "metadata": {},
   "outputs": [
    {
     "data": {
      "image/png": "[encoded data removed]",
      "text/plain": [
       "<Figure size 1080x720 with 1 Axes>"
      ]
     },
     "metadata": {
      "needs_background": "light"
     },
     "output_type": "display_data"
    }
   ],
   "source": [
    "plot.boxplot(\n",
    "    data=df_clean,\n",
    "    x='sentiment',                # Categorical variable on the x-axis\n",
    "    y='words',              # Numeric variable to plot\n",
    "    title='Tweet Length by Sentiment',\n",
    "    xlabel='Sentiment Class',\n",
    "    ylabel='Number of words')"
   ]
  },
  {
   "cell_type": "markdown",
   "id": "20bb03b8",
   "metadata": {},
   "source": [
    "The boxplot shows how tweet lengths, measured by the number of words, are distributed across the three sentiment categories: Neutral, Positive, and Negative.\n",
    "\n",
    "Across all sentiment classes, the median word count is consistent, averaging around 21 words per tweet. This suggests that, regardless of the emotional tone, users tend to express their thoughts using a similar number of words. The interquartile range (IQR)—which represents the middle 50% of tweets—falls between 15 and 27 words for each sentiment, indicating a comparable spread in word usage.\n",
    "\n",
    "While most tweets cluster within this range, there are a few outliers in each class. Some tweets are as short as 3 words, while others reach up to 40 words, reflecting occasional extremes in tweet length. However, these are exceptions rather than the norm.\n",
    "\n",
    "Overall, the distribution of word counts is highly uniform across neutral, positive, and negative tweets. This implies that although the content or tone of a message may change with sentiment, the amount of words used does not vary significantly. This finding can be useful in natural language processing tasks, especially during text preprocessing or normalization, where consistent word length helps simplify modeling and analysis."
   ]
  },
  {
   "cell_type": "code",
   "execution_count": 19,
   "id": "5ec09816",
   "metadata": {},
   "outputs": [
    {
     "data": {
      "image/png": "[encoded data removed]",
      "text/plain": [
       "<Figure size 1080x720 with 1 Axes>"
      ]
     },
     "metadata": {
      "needs_background": "light"
     },
     "output_type": "display_data"
    }
   ],
   "source": [
    "plot.boxplot(\n",
    "    data=df_clean,\n",
    "    x='sentiment',                # Categorical variable on the x-axis\n",
    "    y='sentences',              # Numeric variable to plot\n",
    "    title='Tweet Length by Sentiment',\n",
    "    xlabel='Sentiment Class',\n",
    "    ylabel='Number of sentences')"
   ]
  },
  {
   "cell_type": "markdown",
   "id": "20da6443",
   "metadata": {},
   "source": [
    "The boxplot illustrates the distribution of tweet lengths, measured by the number of sentences, across three sentiment categories: Neutral, Positive, and Negative.\n",
    "\n",
    "Across all sentiment types, tweet lengths are remarkably consistent. The vast majority of tweets contain just one or two sentences, indicating a strong preference for brevity regardless of emotional tone. The median length is one sentence for all sentiment categories, further reinforcing the idea that tweets are typically short and concise.\n",
    "\n",
    "While most tweets are brief, there are a few exceptions. Some tweets extend to six or seven sentences, appearing as outliers in the data. These longer entries may reflect more detailed messages, discussions, or storytelling, though they are relatively rare.\n",
    "\n",
    "Overall, the distribution shows no significant variation in sentence length between the different sentiment classes. This suggests that the number of sentences used in a tweet does not depend on whether its tone is neutral, positive, or negative. The findings emphasize the inherently compact nature of tweets, which generally maintain a consistent structure across emotional expressions."
   ]
  },
  {
   "cell_type": "markdown",
   "id": "4311dea5",
   "metadata": {},
   "source": [
    "## Bar plot of top words per class"
   ]
  },
  {
   "cell_type": "markdown",
   "id": "eb10477e",
   "metadata": {},
   "source": [
    "We need to **plot the top words for each class** to better understand the nature and distribution of words within each category. This will help us identify patterns or dominant terms that may influence classification."
   ]
  },
  {
   "cell_type": "code",
   "execution_count": 20,
   "id": "fb5e7c0a",
   "metadata": {},
   "outputs": [],
   "source": [
    "# defining the plot funtion\n",
    "from collections import Counter\n",
    "def plot_top_words_by_sentiment(df, text_col='lemmas', sentiment_col='sentiment', top_n=10, figsize=(15, 10)):\n",
    "    \"\"\"\n",
    "    Plots bar charts of the top N most common words for each sentiment class.\n",
    "\n",
    "    Parameters:\n",
    "    - df: DataFrame containing the text and sentiment\n",
    "    - text_col: name of the column containing cleaned text\n",
    "    - sentiment_col: name of the column containing sentiment labels\n",
    "    - top_n: number of top words to show per sentiment\n",
    "    - figsize: figure size for each subplot\n",
    "    \"\"\"\n",
    "    sentiments = df[sentiment_col].unique()\n",
    "    n_classes = len(sentiments)\n",
    "\n",
    "    fig, axes = plt.subplots(1, n_classes, figsize=figsize)\n",
    "\n",
    "    if n_classes == 1:\n",
    "        axes = [axes]  # make axes iterable\n",
    "\n",
    "    for ax, sentiment in zip(axes, sentiments):\n",
    "        # Filter by sentiment\n",
    "        texts = df[df[sentiment_col] == sentiment][text_col]\n",
    "        all_words = \" \".join(texts).split()\n",
    "        \n",
    "        # Count words\n",
    "        word_counts = Counter(all_words).most_common(top_n)\n",
    "        words, counts = zip(*word_counts)\n",
    "\n",
    "        # Plot\n",
    "        ax.barh(words[::-1], counts[::-1], color='skyblue')\n",
    "        ax.set_title(f\"Top {top_n} Words\\n({sentiment})\", fontsize=14)\n",
    "        ax.set_xlabel(\"Frequency\")\n",
    "        ax.set_ylabel(\"Words\")\n",
    "        ax.grid(True, axis='x', linestyle='--', alpha=0.7)\n",
    "\n",
    "    plt.tight_layout()\n",
    "    plt.show()"
   ]
  },
  {
   "cell_type": "code",
   "execution_count": 21,
   "id": "445ebdcb",
   "metadata": {},
   "outputs": [
    {
     "data": {
      "image/png": "[encoded data removed]",
      "text/plain": [
       "<Figure size 1080x720 with 3 Axes>"
      ]
     },
     "metadata": {
      "needs_background": "light"
     },
     "output_type": "display_data"
    }
   ],
   "source": [
    "# calling the plot function\n",
    "plot_top_words_by_sentiment(df_clean, text_col=\"processed\", sentiment_col='sentiment', top_n=15)"
   ]
  },
  {
   "cell_type": "markdown",
   "id": "b56ee874",
   "metadata": {},
   "source": [
    "From the plot, we observe that the top words in each class are the same. This indicates the presence of **custom (repeated or non-informative)** words across the classes, which may not contribute meaningfully to the classification task.\n",
    "\n",
    "We will proceed to **drop the custom words** to improve the quality of our features."
   ]
  },
  {
   "cell_type": "code",
   "execution_count": 22,
   "id": "aaf6c03a",
   "metadata": {},
   "outputs": [],
   "source": [
    "# defining function to remove custom words\n",
    "custom_stopwords = {'apple', 'aapl', 'rt', 'iphone'}\n",
    "\n",
    "def remove_custom_words(text):\n",
    "    tokens = text.split()  # turn string into list of words\n",
    "    filtered = [word for word in tokens if word not in custom_stopwords]\n",
    "    return \" \".join(filtered)  # return cleaned string"
   ]
  },
  {
   "cell_type": "code",
   "execution_count": 23,
   "id": "813088b1",
   "metadata": {},
   "outputs": [
    {
     "data": {
      "text/html": [
       "<div>\n",
       "<style scoped>\n",
       "    .dataframe tbody tr th:only-of-type {\n",
       "        vertical-align: middle;\n",
       "    }\n",
       "\n",
       "    .dataframe tbody tr th {\n",
       "        vertical-align: top;\n",
       "    }\n",
       "\n",
       "    .dataframe thead th {\n",
       "        text-align: right;\n",
       "    }\n",
       "</style>\n",
       "<table border=\"1\" class=\"dataframe\">\n",
       "  <thead>\n",
       "    <tr style=\"text-align: right;\">\n",
       "      <th></th>\n",
       "      <th>sentiment</th>\n",
       "      <th>sentiment confidence</th>\n",
       "      <th>text</th>\n",
       "      <th>processed</th>\n",
       "      <th>char</th>\n",
       "      <th>words</th>\n",
       "      <th>sentences</th>\n",
       "      <th>lemmas_filtered</th>\n",
       "    </tr>\n",
       "  </thead>\n",
       "  <tbody>\n",
       "    <tr>\n",
       "      <th>1819</th>\n",
       "      <td>Neutral</td>\n",
       "      <td>1.0000</td>\n",
       "      <td>@juji246 @stephanies0601 @BradPaisley @Applebe...</td>\n",
       "      <td>oops sorry applebees meant</td>\n",
       "      <td>87</td>\n",
       "      <td>18</td>\n",
       "      <td>3</td>\n",
       "      <td>oops sorry applebees meant</td>\n",
       "    </tr>\n",
       "    <tr>\n",
       "      <th>1228</th>\n",
       "      <td>positive</td>\n",
       "      <td>1.0000</td>\n",
       "      <td>RT @JPDesloges: Why Apple  Is Poised to Have a...</td>\n",
       "      <td>rt apple poised record breaking holiday season...</td>\n",
       "      <td>113</td>\n",
       "      <td>21</td>\n",
       "      <td>1</td>\n",
       "      <td>poised record breaking holiday season</td>\n",
       "    </tr>\n",
       "    <tr>\n",
       "      <th>3025</th>\n",
       "      <td>Negative</td>\n",
       "      <td>1.0000</td>\n",
       "      <td>wtf is my conputer doing I left it alone for f...</td>\n",
       "      <td>wtf conputer left alone five minute help</td>\n",
       "      <td>122</td>\n",
       "      <td>26</td>\n",
       "      <td>2</td>\n",
       "      <td>wtf conputer left alone five minute help</td>\n",
       "    </tr>\n",
       "    <tr>\n",
       "      <th>2538</th>\n",
       "      <td>positive</td>\n",
       "      <td>0.7502</td>\n",
       "      <td>Mobile companies really need to learn from @ap...</td>\n",
       "      <td>mobile company really need learn roll phone le...</td>\n",
       "      <td>143</td>\n",
       "      <td>29</td>\n",
       "      <td>1</td>\n",
       "      <td>mobile company really need learn roll phone le...</td>\n",
       "    </tr>\n",
       "    <tr>\n",
       "      <th>934</th>\n",
       "      <td>Neutral</td>\n",
       "      <td>1.0000</td>\n",
       "      <td>#Jobs Said #Apple Took Pains to Protect Record...</td>\n",
       "      <td>job said apple took pain protect record contra...</td>\n",
       "      <td>96</td>\n",
       "      <td>18</td>\n",
       "      <td>1</td>\n",
       "      <td>job said took pain protect record contract ste...</td>\n",
       "    </tr>\n",
       "  </tbody>\n",
       "</table>\n",
       "</div>"
      ],
      "text/plain": [
       "     sentiment  sentiment confidence  \\\n",
       "1819   Neutral                1.0000   \n",
       "1228  positive                1.0000   \n",
       "3025  Negative                1.0000   \n",
       "2538  positive                0.7502   \n",
       "934    Neutral                1.0000   \n",
       "\n",
       "                                                   text  \\\n",
       "1819  @juji246 @stephanies0601 @BradPaisley @Applebe...   \n",
       "1228  RT @JPDesloges: Why Apple  Is Poised to Have a...   \n",
       "3025  wtf is my conputer doing I left it alone for f...   \n",
       "2538  Mobile companies really need to learn from @ap...   \n",
       "934   #Jobs Said #Apple Took Pains to Protect Record...   \n",
       "\n",
       "                                              processed  char  words  \\\n",
       "1819                         oops sorry applebees meant    87     18   \n",
       "1228  rt apple poised record breaking holiday season...   113     21   \n",
       "3025           wtf conputer left alone five minute help   122     26   \n",
       "2538  mobile company really need learn roll phone le...   143     29   \n",
       "934   job said apple took pain protect record contra...    96     18   \n",
       "\n",
       "      sentences                                    lemmas_filtered  \n",
       "1819          3                         oops sorry applebees meant  \n",
       "1228          1              poised record breaking holiday season  \n",
       "3025          2           wtf conputer left alone five minute help  \n",
       "2538          1  mobile company really need learn roll phone le...  \n",
       "934           1  job said took pain protect record contract ste...  "
      ]
     },
     "execution_count": 23,
     "metadata": {},
     "output_type": "execute_result"
    }
   ],
   "source": [
    "# removing custom words \n",
    "df_clean['lemmas_filtered'] = df_clean['processed'].apply(remove_custom_words)\n",
    "df_clean.sample(5)"
   ]
  },
  {
   "cell_type": "code",
   "execution_count": 24,
   "id": "8467f3c0",
   "metadata": {
    "scrolled": true
   },
   "outputs": [
    {
     "data": {
      "image/png": "[encoded data removed]",
      "text/plain": [
       "<Figure size 1080x720 with 3 Axes>"
      ]
     },
     "metadata": {
      "needs_background": "light"
     },
     "output_type": "display_data"
    }
   ],
   "source": [
    "# ploting the new distribution of words without custom words\n",
    "plot_top_words_by_sentiment(df_clean, text_col=\"lemmas_filtered\", sentiment_col='sentiment', top_n=15)"
   ]
  },
  {
   "cell_type": "markdown",
   "id": "27256d56",
   "metadata": {},
   "source": [
    "The chart presents the top 15 most frequent words used in tweets, categorized by sentiment—neutral, positive, and negative. Each sentiment group reveals distinct word usage patterns that reflect the tone and context of the tweets.\n",
    "\n",
    "In neutral tweets, the most common words include “store”, “need”, “one”, and “stock”, suggesting a focus on general information, product mentions, or factual statements. Words like “update”, “computer”, and “future” imply that these tweets often contain news, product availability, or technology-related content, with a neutral tone devoid of strong emotional expression.\n",
    "\n",
    "Positive tweets are characterized by words that express gratitude, appreciation, or excitement. Common words such as “thanks”, “love”, “great”, “best”, and “thank” clearly reflect this sentiment. Even when the same terms appear across categories (like “store” or “new”), their context in positive tweets often involves favorable experiences or satisfaction with products or services.\n",
    "\n",
    "In contrast, negative tweets contain more emotionally charged and explicit language. Words like “fuck”, “shit”, “fix”, and “fucking” signal frustration or dissatisfaction. The presence of terms such as “phone”, “battery”, “charger”, and “computer” indicates that technical issues or product failures are common topics of complaint. While some neutral and positive terms like “need”, “store”, and “new” appear in the negative category as well, their surrounding context likely shifts their sentiment based on user dissatisfaction.\n",
    "\n",
    "Overall, this word frequency analysis reveals how language patterns differ significantly depending on sentiment. Positive tweets focus on appreciation, negative tweets highlight issues and frustrations, and neutral tweets are more descriptive and factual in nature."
   ]
  }
 ],
 "metadata": {
  "kernelspec": {
   "display_name": "Python (learn-env)",
   "language": "python",
   "name": "learn-env"
  },
  "language_info": {
   "codemirror_mode": {
    "name": "ipython",
    "version": 3
   },
   "file_extension": ".py",
   "mimetype": "text/x-python",
   "name": "python",
   "nbconvert_exporter": "python",
   "pygments_lexer": "ipython3",
   "version": "3.8.5"
  }
 },
 "nbformat": 4,
 "nbformat_minor": 5
}
